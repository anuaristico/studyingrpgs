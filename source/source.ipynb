{
  "nbformat": 4,
  "nbformat_minor": 0,
  "metadata": {
    "colab": {
      "provenance": []
    },
    "kernelspec": {
      "name": "python3",
      "display_name": "Python 3"
    },
    "language_info": {
      "name": "python"
    }
  },
  "cells": [
    {
      "cell_type": "markdown",
      "source": [
        "# **Creating the network**"
      ],
      "metadata": {
        "id": "s5udvIzkhsUm"
      }
    },
    {
      "cell_type": "markdown",
      "source": [
        "## Installing and importing the *libraries*"
      ],
      "metadata": {
        "id": "6Q4b-iAxhy6O"
      }
    },
    {
      "cell_type": "code",
      "execution_count": 1,
      "metadata": {
        "id": "SqmVDszJRxJ1",
        "colab": {
          "base_uri": "https://localhost:8080/"
        },
        "outputId": "5f876e93-e9d7-4b99-9626-fefbf3abe138"
      },
      "outputs": [
        {
          "output_type": "stream",
          "name": "stdout",
          "text": [
            "Collecting wikipedia\n",
            "  Downloading wikipedia-1.4.0.tar.gz (27 kB)\n",
            "  Preparing metadata (setup.py) ... \u001b[?25l\u001b[?25hdone\n",
            "Requirement already satisfied: beautifulsoup4 in /usr/local/lib/python3.10/dist-packages (from wikipedia) (4.12.3)\n",
            "Requirement already satisfied: requests<3.0.0,>=2.0.0 in /usr/local/lib/python3.10/dist-packages (from wikipedia) (2.32.3)\n",
            "Requirement already satisfied: charset-normalizer<4,>=2 in /usr/local/lib/python3.10/dist-packages (from requests<3.0.0,>=2.0.0->wikipedia) (3.3.2)\n",
            "Requirement already satisfied: idna<4,>=2.5 in /usr/local/lib/python3.10/dist-packages (from requests<3.0.0,>=2.0.0->wikipedia) (3.7)\n",
            "Requirement already satisfied: urllib3<3,>=1.21.1 in /usr/local/lib/python3.10/dist-packages (from requests<3.0.0,>=2.0.0->wikipedia) (2.0.7)\n",
            "Requirement already satisfied: certifi>=2017.4.17 in /usr/local/lib/python3.10/dist-packages (from requests<3.0.0,>=2.0.0->wikipedia) (2024.7.4)\n",
            "Requirement already satisfied: soupsieve>1.2 in /usr/local/lib/python3.10/dist-packages (from beautifulsoup4->wikipedia) (2.5)\n",
            "Building wheels for collected packages: wikipedia\n",
            "  Building wheel for wikipedia (setup.py) ... \u001b[?25l\u001b[?25hdone\n",
            "  Created wheel for wikipedia: filename=wikipedia-1.4.0-py3-none-any.whl size=11679 sha256=7883222c0b209c427eb7c347179879f999afdebdca7505c8e0a4d82b93651036\n",
            "  Stored in directory: /root/.cache/pip/wheels/5e/b6/c5/93f3dec388ae76edc830cb42901bb0232504dfc0df02fc50de\n",
            "Successfully built wikipedia\n",
            "Installing collected packages: wikipedia\n",
            "Successfully installed wikipedia-1.4.0\n"
          ]
        }
      ],
      "source": [
        "!pip install wikipedia"
      ]
    },
    {
      "cell_type": "markdown",
      "source": [],
      "metadata": {
        "id": "Gm5wzjLYiASs"
      }
    },
    {
      "cell_type": "code",
      "source": [
        "from operator import itemgetter\n",
        "import networkx as nx\n",
        "import wikipedia\n",
        "import matplotlib.pyplot as plt\n",
        "import numpy as np\n",
        "import seaborn as sns"
      ],
      "metadata": {
        "id": "9wDtb8NXSt28"
      },
      "execution_count": 35,
      "outputs": []
    },
    {
      "cell_type": "markdown",
      "source": [
        "## Defining the seeds and stopping conditions"
      ],
      "metadata": {
        "id": "BpFeQlgWiR8D"
      }
    },
    {
      "cell_type": "code",
      "source": [
        "SEED = [\"Baldur's Gate (série)\".title(), \"Dragon Age\".title(), \"Mass Effect\".title()]\n",
        "STOPS = (\"International Standard Serial Number\",\n",
        "         \"International Standard Book Number\",\n",
        "         \"National Diet Library\",\n",
        "         \"International Standard Name Identifier\",\n",
        "         \"International Standard Book Number (Identifier)\",\n",
        "         \"Pubmed Identifier\",\n",
        "         \"Pubmed Central\",\n",
        "         \"Digital Object Identifier\",\n",
        "         \"Arxiv\",\n",
        "         \"Proc Natl Acad Sci Usa\",\n",
        "         \"Bibcode\",\n",
        "         \"Library Of Congress Control Number\",\n",
        "         \"Jstor\",\n",
        "         \"Doi (Identifier)\",\n",
        "         \"Isbn (Identifier)\",\n",
        "         \"Pmid (Identifier)\",\n",
        "         \"Arxiv (Identifier)\",\n",
        "         \"Bibcode (Identifier)\")"
      ],
      "metadata": {
        "id": "VOo3DSFrTafE"
      },
      "execution_count": 3,
      "outputs": []
    },
    {
      "cell_type": "markdown",
      "source": [
        "## Creating support lists and blank graphs"
      ],
      "metadata": {
        "id": "2KjV_kI2ihKj"
      }
    },
    {
      "cell_type": "code",
      "source": [
        "todo_lst0 = [(0, SEED[0])] # The SEED is in the layer 0\n",
        "todo_set0 = set(SEED[0]) # The SEED itself\n",
        "done_set0 = set() # Nothing is done yet"
      ],
      "metadata": {
        "id": "H2Ydqw3AUriN"
      },
      "execution_count": 4,
      "outputs": []
    },
    {
      "cell_type": "code",
      "source": [
        "todo_lst1 = [(0, SEED[1])] # The SEED is in the layer 0\n",
        "todo_set1 = set(SEED[1]) # The SEED itself\n",
        "done_set1 = set() # Nothing is done yet"
      ],
      "metadata": {
        "id": "P64Hpwrs46JY"
      },
      "execution_count": 5,
      "outputs": []
    },
    {
      "cell_type": "code",
      "source": [
        "todo_lst2 = [(0, SEED[2])] # The SEED is in the layer 0\n",
        "todo_set2 = set(SEED[2]) # The SEED itself\n",
        "done_set2 = set() # Nothing is done yet"
      ],
      "metadata": {
        "id": "c3Jv5Mun0EXd"
      },
      "execution_count": 6,
      "outputs": []
    },
    {
      "cell_type": "code",
      "source": [
        "g0 = nx.DiGraph()\n",
        "layer0, page0 = todo_lst0[0]"
      ],
      "metadata": {
        "id": "hiObmjvPVox0"
      },
      "execution_count": 7,
      "outputs": []
    },
    {
      "cell_type": "code",
      "source": [
        "g1 = nx.DiGraph()\n",
        "layer1, page1 = todo_lst1[0]"
      ],
      "metadata": {
        "id": "e5bw1Gha4-ao"
      },
      "execution_count": 8,
      "outputs": []
    },
    {
      "cell_type": "code",
      "source": [
        "g2 = nx.DiGraph()\n",
        "layer2, page2 = todo_lst2[0]"
      ],
      "metadata": {
        "id": "9QfFWAuMz5fl"
      },
      "execution_count": 9,
      "outputs": []
    },
    {
      "cell_type": "markdown",
      "source": [
        "## Filling graphs"
      ],
      "metadata": {
        "id": "pbGmbnV9ir87"
      }
    },
    {
      "cell_type": "code",
      "source": [
        "def preencher_grafo (layer, page, todo_lst, todo_set, done_set, g):\n",
        "  while layer < 2:\n",
        "    # Remove the name page of the current page from the todo_lst,\n",
        "    # and add it to the set of processed pages.\n",
        "    # If the script encounters this page again, it will skip over it.\n",
        "    del todo_lst[0]\n",
        "    done_set.add(page)\n",
        "\n",
        "    # Show progress\n",
        "    print(layer, page)\n",
        "\n",
        "    # Attempt to download the selected page.\n",
        "    try:\n",
        "      wiki = wikipedia.page(page)\n",
        "    except:\n",
        "      print(\"Could not load\", page)\n",
        "      layer, page = todo_lst[0]\n",
        "      continue\n",
        "\n",
        "    for link in wiki.links:\n",
        "      link = link.title()\n",
        "      if link not in STOPS and not link.startswith(\"List Of\"):\n",
        "        if link not in todo_set and link not in done_set:\n",
        "          todo_lst.append((layer + 1, link))\n",
        "          todo_set.add(link)\n",
        "        g.add_edge(page, link)\n",
        "    layer, page = todo_lst[0]\n"
      ],
      "metadata": {
        "id": "OmdDBRRnveaD"
      },
      "execution_count": 10,
      "outputs": []
    },
    {
      "cell_type": "code",
      "source": [
        "preencher_grafo(layer0, page0, todo_lst0, todo_set0, done_set0, g0)"
      ],
      "metadata": {
        "colab": {
          "base_uri": "https://localhost:8080/"
        },
        "id": "9JNj8hEawQ9D",
        "outputId": "ef949099-aa32-4e68-acc3-04ca65f8a6b6"
      },
      "execution_count": 11,
      "outputs": [
        {
          "output_type": "stream",
          "name": "stdout",
          "text": [
            "0 Baldur'S Gate (Série)\n",
            "1 A-Level\n",
            "1 Actress\n",
            "Could not load Actress\n",
            "1 Alt-Right\n",
            "1 Army Cadet Force\n",
            "1 Audie Award For Science Fiction\n",
            "1 Audie Awards\n",
            "1 Audio Publishers Association\n",
            "1 Audre Lorde\n",
            "1 Axiom'S End\n",
            "1 Bbc\n",
            "Could not load Bbc\n",
            "1 Bbc News\n",
            "1 Bbc Iplayer\n",
            "Could not load Bbc Iplayer\n",
            "1 Baldur'S Gate 3\n",
            "Could not load Baldur'S Gate 3\n",
            "1 Baldur'S Gate Iii\n",
            "Could not load Baldur'S Gate Iii\n",
            "1 Bay Area Reporter\n",
            "1 Ben Hunte\n",
            "1 Bisexuality\n",
            "1 Black Mirror: Bandersnatch\n",
            "1 Bourne (Franchise)\n",
            "1 Brandon Rogers (Youtuber)\n",
            "1 Breadtube\n",
            "1 Breitbart News\n",
            "Could not load Breitbart News\n",
            "1 British Broadcasting Corporation\n",
            "1 British Comedy Guide\n",
            "1 British Film Institute\n",
            "1 British Lgbt Award\n",
            "1 British Lgbt Awards\n",
            "1 Broadwayworld\n",
            "1 Broadway World\n",
            "1 Covid-19 Lockdowns\n",
            "1 Choice Reviews\n",
            "1 Climate Change\n",
            "1 Coming Out\n",
            "1 Complete Works Of Shakespeare\n",
            "1 Contrapoints\n",
            "1 Count Dracula\n",
            "1 Daily Xtra\n",
            "1 Data Mining\n",
            "Could not load Data Mining\n",
            "1 Deutsche Welle\n",
            "1 Diva (Magazine)\n",
            "1 Django (1966 Film)\n",
            "1 Django (Tv Series)\n",
            "1 Dominique Mclean\n",
            "1 Dracula\n",
            "1 East 15 Acting School\n",
            "1 Emily St. James\n",
            "1 Emma Dabiri\n",
            "1 Entertainment Tonight Canada\n",
            "1 Evening Standard\n",
            "1 Frances Ryan\n",
            "Could not load Frances Ryan\n",
            "1 Gay Community News (Dublin)\n",
            "1 Gay Times\n",
            "1 Gender Transition\n",
            "1 Gender Transitioning\n",
            "1 Gwendolyn Ann Smith\n",
            "1 Hadestown (Album)\n",
            "1 Hamlet\n",
            "1 Harmony: The Fall Of Reverie\n",
            "1 Hbomberguy\n",
            "1 Hector\n",
            "1 Helluva Boss\n",
            "Could not load Helluva Boss\n",
            "1 Henry Iv, Part 1\n",
            "1 House Of The Dragon\n",
            "1 Huckmag\n",
            "Could not load Huckmag\n",
            "1 Huffpost\n",
            "1 Hyperallergic\n",
            "1 Imdb (Identifier)\n",
            "1 Immanuel Kant\n",
            "1 Insider.Com\n",
            "1 Jack Ryan (Franchise)\n",
            "1 Jean-Paul Sartre\n",
            "1 Jezebel (Website)\n",
            "1 Judi Dench\n",
            "1 Junkee\n",
            "1 Kim Petras\n",
            "1 Ladhood\n",
            "1 Lady Macbeth\n",
            "1 Le Parisien\n",
            "1 Lesbian\n",
            "1 Lindsay Ellis\n",
            "1 Mara Wilson\n",
            "Could not load Mara Wilson\n",
            "1 Master Of Arts\n",
            "1 Master Of Arts (Scotland)\n",
            "1 Mermaids (Charity)\n",
            "1 Metatheatre\n",
            "1 Morgana Ignis\n",
            "1 Motion Capture\n",
            "1 Mylondon\n",
            "Could not load Mylondon\n",
            "1 Nme\n",
            "1 Nebula (Streaming Service)\n",
            "1 Newcastle Upon Tyne\n",
            "1 No Exit\n",
            "Could not load No Exit\n",
            "1 November Kelly\n",
            "1 Oss 117\n",
            "Could not load Oss 117\n",
            "1 Off West End\n",
            "1 Off West End Theatre Award\n",
            "1 Off West End Theatre Awards\n",
            "1 Out (Magazine)\n",
            "1 Outsports\n",
            "1 Patreon\n",
            "1 Paypal\n",
            "Could not load Paypal\n",
            "1 Pinknews\n",
            "1 Platonic Dialogue\n",
            "1 Playwrighting\n",
            "1 Podcast\n",
            "1 Polygon (Website)\n",
            "1 Preview (Theatre)\n",
            "1 Radicalization\n",
            "1 René Descartes\n",
            "1 Rock Paper Shotgun\n",
            "1 Rosencrantz And Guildenstern Are Dead\n",
            "1 Royal Grammar School, Newcastle Upon Tyne\n",
            "1 Royal Shakespeare Company\n",
            "1 Sme (Newspaper)\n",
            "1 Samaritans (Charity)\n",
            "1 Self-Harm\n",
            "1 Sight & Sound\n",
            "1 Sketch Comedy\n",
            "1 Southwark Playhouse\n",
            "1 Star Wars\n",
            "Could not load Star Wars\n",
            "1 Steve Bannon\n",
            "Could not load Steve Bannon\n",
            "1 Suicide Attempt\n",
            "1 Terry Eagleton\n",
            "Could not load Terry Eagleton\n",
            "1 The Acolyte (Tv Series)\n",
            "1 The Big Issue\n",
            "1 The Daily Telegraph\n",
            "1 The Guardian\n",
            "1 The Independent\n",
            "1 The Irish Times\n",
            "1 The Man From U.N.C.L.E.\n",
            "1 The Mary Sue\n",
            "1 The Matrix\n",
            "1 The Prince (Play)\n",
            "1 The Queen Who Ever Was\n",
            "1 The Times\n"
          ]
        },
        {
          "output_type": "stream",
          "name": "stderr",
          "text": [
            "/usr/local/lib/python3.10/dist-packages/wikipedia/wikipedia.py:389: GuessedAtParserWarning: No parser was explicitly specified, so I'm using the best available HTML parser for this system (\"lxml\"). This usually isn't a problem, but if you run this code on another system, or in a different virtual environment, it may use a different parser and behave differently.\n",
            "\n",
            "The code that caused this warning is on line 389 of the file /usr/local/lib/python3.10/dist-packages/wikipedia/wikipedia.py. To get rid of this warning, pass the additional argument 'features=\"lxml\"' to the BeautifulSoup constructor.\n",
            "\n",
            "  lis = BeautifulSoup(html).find_all('li')\n"
          ]
        },
        {
          "output_type": "stream",
          "name": "stdout",
          "text": [
            "Could not load The Times\n",
            "1 Timothy Morton\n",
            "1 Trans Woman\n",
            "1 Transgender\n",
            "1 Transgender Health Care\n",
            "1 Transgender Woman\n",
            "1 Triplec\n",
            "1 Troilus And Cressida\n",
            "1 Tubefilter\n",
            "1 Tuition Fees In The United Kingdom\n",
            "1 Tweet (Social Media)\n",
            "1 Twitch (Service)\n",
            "1 Twitter\n",
            "1 University Of Essex\n",
            "1 University Of St. Andrews\n",
            "1 University Of St Andrews\n",
            "Could not load University Of St Andrews\n",
            "1 Variety (Magazine)\n",
            "1 Vidcon\n",
            "1 Vox (Website)\n",
            "1 Vulture (Magazine)\n",
            "1 Why Marx Was Right\n",
            "1 William Shakespeare\n",
            "1 Youtube\n",
            "1 Youtube Creator Awards\n",
            "1 Youtube User (Identifier)\n",
            "1 Youtuber\n"
          ]
        }
      ]
    },
    {
      "cell_type": "code",
      "source": [
        "print(\"{} nodes, {} edges\".format(len(g0), nx.number_of_edges(g0)))"
      ],
      "metadata": {
        "colab": {
          "base_uri": "https://localhost:8080/"
        },
        "id": "9K3z6YpDbSF0",
        "outputId": "b78f16cd-dac3-4e92-8a5d-ebb72048170d"
      },
      "execution_count": 13,
      "outputs": [
        {
          "output_type": "stream",
          "name": "stdout",
          "text": [
            "35903 nodes, 52581 edges\n"
          ]
        }
      ]
    },
    {
      "cell_type": "code",
      "source": [
        "preencher_grafo(layer1, page1, todo_lst1, todo_set1, done_set1, g1)"
      ],
      "metadata": {
        "colab": {
          "base_uri": "https://localhost:8080/"
        },
        "id": "XCMw7w2FwinQ",
        "outputId": "97a1edba-6d29-4545-9ea8-b7bb4c9ab97a"
      },
      "execution_count": 14,
      "outputs": [
        {
          "output_type": "stream",
          "name": "stdout",
          "text": [
            "0 Dragon Age\n",
            "1 Aaa (Video Game Industry)\n",
            "1 A Song Of Ice And Fire\n",
            "1 Absolute Monarchy\n",
            "1 Action Role-Playing Games\n",
            "Could not load Action Role-Playing Games\n",
            "1 Adobe Flash\n",
            "1 Adobe Flash Player\n",
            "1 Adult Animation\n",
            "1 Alistair (Dragon Age)\n",
            "1 Ancestor Worship\n",
            "1 Anders (Dragon Age)\n",
            "1 Android (Operating System)\n",
            "1 Anime\n",
            "1 Anime News Network\n",
            "1 Anthem (Video Game)\n",
            "1 Anthology\n",
            "1 Apostasy\n",
            "1 Archetype Entertainment\n",
            "1 Baldur'S Gate\n",
            "Could not load Baldur'S Gate\n",
            "1 Baldur'S Gate: Tales Of The Sword Coast\n",
            "1 Baldur'S Gate (Series)\n",
            "1 Baldur'S Gate (Video Game)\n",
            "Could not load Baldur'S Gate (Video Game)\n",
            "1 Baldur'S Gate Ii: Shadows Of Amn\n",
            "1 Baldur'S Gate Ii: Throne Of Bhaal\n",
            "1 Beamdog\n",
            "1 Bioware\n",
            "Could not load Bioware\n",
            "1 Black Isle Studios\n",
            "1 Browser Game\n",
            "1 Casey Hudson\n",
            "1 Cassandra Pentaghast\n",
            "1 Caste System\n",
            "1 Character Class\n",
            "1 Characters Of Dragon Age: Inquisition\n",
            "1 Characters Of Dragon Age: Origins\n",
            "1 Characters Of Dragon Age Ii\n",
            "1 Chart-Track\n",
            "1 Civil Religion\n",
            "1 Command & Conquer (Cancelled Video Game)\n",
            "Could not load Command & Conquer (Cancelled Video Game)\n",
            "1 Computer And Video Games\n",
            "1 Dc Direct\n",
            "1 Dark Horse Comics\n",
            "1 Dark Fantasy\n",
            "1 Darkspawn\n",
            "1 David Gaider\n",
            "Could not load David Gaider\n",
            "1 Dialogue Tree\n",
            "1 Distrust\n",
            "1 Dorian Pavus\n",
            "1 Downloadable Content\n",
            "1 Dragon Age: Absolution\n",
            "1 Dragon Age: Blue Wraith\n",
            "1 Dragon Age: Dawn Of The Seeker\n",
            "1 Dragon Age: Deception\n",
            "1 Dragon Age: Dreadwolf\n",
            "1 Dragon Age: Inquisition\n",
            "1 Dragon Age: Inquisition – Jaws Of Hakkon\n",
            "1 Dragon Age: Inquisition – The Descent\n",
            "1 Dragon Age: Inquisition – Trespasser\n",
            "1 Dragon Age: Knight Errant\n",
            "1 Dragon Age: Last Flight\n",
            "1 Dragon Age: Magekiller\n",
            "1 Dragon Age: Origins\n",
            "1 Dragon Age: Origins Downloadable Content\n",
            "1 Dragon Age: Origins – Awakening\n",
            "1 Dragon Age: Origins – Return To Ostagar\n",
            "1 Dragon Age: Redemption\n",
            "1 Dragon Age: Tevinter Nights\n",
            "1 Dragon Age: The Masked Empire\n",
            "1 Dragon Age: The Silent Grove\n",
            "1 Dragon Age: The Stolen Throne\n",
            "1 Dragon Age: The Veilguard\n",
            "1 Dragon Age (Disambiguation)\n",
            "Could not load Dragon Age (Disambiguation)\n",
            "1 Dragon Age (Role-Playing Game)\n",
            "1 Dragon Age Ii\n",
            "1 Dragon Age Ii Downloadable Content\n",
            "1 Dragon Age Legends\n",
            "1 Drew Karpyshyn\n",
            "1 Dwarf (Folklore)\n",
            "1 Edge Of Reality\n",
            "1 Edmonton\n",
            "1 Electronic Arts\n",
            "1 Elves In Fiction\n",
            "1 Engadget\n",
            "Could not load Engadget\n",
            "1 England In The Middle Ages\n",
            "1 Eurogamer\n",
            "1 Expansion Pack\n",
            "1 Experience Points\n",
            "1 Face\n",
            "Could not load Face\n",
            "1 Facebook Platform\n",
            "1 Fantasy\n",
            "1 Fantasy Fiction\n",
            "1 Fantasy Tropes\n",
            "1 Felicia Day\n",
            "1 Feudalism\n",
            "1 Flemeth\n",
            "1 French Renaissance\n",
            "1 Funimation Entertainment\n",
            "1 Gamespot\n",
            "1 Gamespy\n",
            "1 Game Informer\n",
            "1 Gameinformer\n",
            "1 George R. R. Martin\n",
            "1 Good And Evil\n",
            "1 Google+\n",
            "1 Greedfall\n",
            "1 Green Ronin\n",
            "1 Greg Rucka\n",
            "1 Greg Zeschuk\n",
            "1 Hack And Slash\n",
            "1 Hawke (Dragon Age)\n",
            "1 Heroes Of Dragon Age\n",
            "1 Humanoid\n",
            "Could not load Humanoid\n",
            "1 Idw Publishing\n",
            "1 Ign\n",
            "Could not load Ign\n",
            "1 Ios\n",
            "Could not load Ios\n",
            "1 Inxile Entertainment\n",
            "1 Independence Day (1996 Film)\n",
            "Could not load Independence Day (1996 Film)\n",
            "1 Iron Bull\n",
            "1 Isometric Video Game Graphics\n",
            "1 Jade Empire\n",
            "1 James Ohlen\n",
            "1 Jeff Hickman\n",
            "1 Jennifer Hepler\n",
            "Could not load Jennifer Hepler\n",
            "1 John Bartley\n",
            "1 John Riccitiello\n",
            "1 Kevin Martens\n",
            "1 Killscreen\n",
            "1 Kotaku\n",
            "1 Krem (Dragon Age)\n",
            "1 Leliana\n",
            "Could not load Leliana\n",
            "1 Liane Merciel\n",
            "1 Loghain\n",
            "1 Loghain Mac Tir\n",
            "1 Los Angeles\n",
            "1 Lost (2004 Tv Series)\n",
            "1 Mdk2\n",
            "Could not load Mdk2\n",
            "1 Mac Walters\n",
            "1 Machinima, Inc.\n",
            "1 Magic In Fiction\n",
            "1 Magician (Fantasy)\n",
            "1 Magister Officiorum\n",
            "1 Manveer Heir\n",
            "1 Mass Effect\n",
            "1 Mass Effect: Andromeda\n",
            "1 Mass Effect (Video Game)\n",
            "1 Mass Effect 2\n",
            "1 Mass Effect 3\n",
            "1 Mass Effect Galaxy\n",
            "1 Mass Effect Legendary Edition\n",
            "1 Media Franchise\n",
            "1 Medievalism\n",
            "1 Metacritic\n",
            "1 Microsoft Windows\n",
            "1 Mike Laidlaw\n",
            "1 Monotheism\n",
            "1 Morrigan (Dragon Age)\n",
            "1 Motive Studios\n",
            "1 Music Of Dragon Age: Origins\n",
            "1 Mythic Entertainment\n",
            "1 Npd Group\n",
            "Could not load Npd Group\n",
            "1 Nwscript\n",
            "1 Netflix\n",
            "1 Neverwinter Nights\n",
            "1 Neverwinter Nights: Hordes Of The Underdark\n",
            "1 Neverwinter Nights: Kingmaker\n",
            "1 Neverwinter Nights: Shadows Of Undrentide\n",
            "1 Neverwinter Nights (2002 Video Game)\n",
            "1 Night'S Watch\n",
            "1 Os X\n",
            "Could not load Os X\n",
            "1 Obsidian Entertainment\n",
            "1 Oligarchy\n",
            "1 Orc\n",
            "1 Orson Scott Card\n",
            "Could not load Orson Scott Card\n",
            "1 Pc Gamer\n",
            "1 Party (Role-Playing Games)\n",
            "1 Patrick Weekes\n",
            "1 Peerage Of England\n",
            "1 Pen Name\n",
            "1 Penny Arcade (Webcomic)\n",
            "1 Personal God\n",
            "1 Pixologic\n",
            "1 Playstation 3\n",
            "1 Playstation 4\n",
            "1 Playstation 5\n",
            "1 Polygon (Website)\n",
            "1 Press Release\n",
            "1 Quest\n",
            "Could not load Quest\n",
            "1 Ray Muzyka\n",
            "1 Rock, Paper, Shotgun\n",
            "1 Role-Playing Game System\n",
            "1 Role-Playing Video Game\n",
            "1 Sapience\n",
            "Could not load Sapience\n",
            "1 Sera (Dragon Age)\n",
            "1 Shadow Realms\n",
            "1 Shattered Steel\n",
            "1 Short Story\n",
            "Could not load Short Story\n",
            "1 Showrunner\n",
            "1 Skill Tree\n",
            "1 Slave Rebellion\n",
            "1 Slavery\n",
            "1 Softpedia\n",
            "1 Solas (Dragon Age)\n",
            "1 Sonic Chronicles: The Dark Brotherhood\n",
            "1 Star Wars: Knights Of The Old Republic (Video Game)\n",
            "Could not load Star Wars: Knights Of The Old Republic (Video Game)\n",
            "1 Star Wars: The Old Republic\n",
            "1 Star Wars: The Old Republic – Rise Of The Hutt Cartel\n",
            "1 Star Wars Video Games\n",
            "Could not load Star Wars Video Games\n",
            "1 Steam (Service)\n",
            "1 Strategy Video Game\n",
            "1 Streaming Television\n",
            "1 Tactical Role-Playing Game\n",
            "1 Thief (Character Class)\n",
            "1 Third-Person Perspective\n",
            "1 Tie-In\n",
            "1 Tolkien'S Legendarium\n",
            "1 Top-Down Perspective\n",
            "1 Transgaming\n",
            "1 Triumvirate\n",
            "1 Troika Games\n",
            "1 Twitter\n",
            "1 Us Gamer\n",
            "1 Vg247\n",
            "Could not load Vg247\n",
            "1 Varric Tethras\n",
            "1 Video Game Developer\n",
            "1 Video Game Genre\n",
            "1 Video Game Publisher\n",
            "1 Viking Expansion\n",
            "1 Vivienne (Dragon Age)\n",
            "1 Warrior (Character Class)\n",
            "1 Web Browser\n",
            "1 Webseries\n",
            "1 Wired.Co.Uk\n",
            "1 Wizard (Character Class)\n",
            "1 Xbox 360\n",
            "1 Xbox One\n",
            "Could not load Xbox One\n",
            "1 Xbox Series X And Series S\n",
            "Could not load Xbox Series X And Series S\n",
            "1 Youtube\n"
          ]
        }
      ]
    },
    {
      "cell_type": "code",
      "source": [
        "print(\"{} nodes, {} edges\".format(len(g1), nx.number_of_edges(g1)))"
      ],
      "metadata": {
        "colab": {
          "base_uri": "https://localhost:8080/"
        },
        "id": "gTn1QI0XwksK",
        "outputId": "58c9a5ef-394c-4251-8d84-5ddccbe1894f"
      },
      "execution_count": 15,
      "outputs": [
        {
          "output_type": "stream",
          "name": "stdout",
          "text": [
            "39837 nodes, 68943 edges\n"
          ]
        }
      ]
    },
    {
      "cell_type": "code",
      "source": [
        "preencher_grafo(layer2, page2, todo_lst2, todo_set2, done_set2, g2)"
      ],
      "metadata": {
        "id": "8j5An83SwnB7",
        "colab": {
          "base_uri": "https://localhost:8080/"
        },
        "outputId": "bf7e4387-5c5d-4187-a495-c6b188866471"
      },
      "execution_count": 16,
      "outputs": [
        {
          "output_type": "stream",
          "name": "stdout",
          "text": [
            "0 Mass Effect\n",
            "1 1Up.Com\n",
            "1 3D Printing\n",
            "Could not load 3D Printing\n",
            "1 Aaa (Video Game Industry)\n",
            "1 Afl (Video Game Series)\n",
            "1 Action Role-Playing\n",
            "1 Action Role-Playing Games\n",
            "Could not load Action Role-Playing Games\n",
            "1 Advertising Standards Authority (United Kingdom)\n",
            "1 Alien (Film)\n",
            "Could not load Alien (Film)\n",
            "1 American Mcgee'S Alice\n",
            "1 Amy Hennig\n",
            "Could not load Amy Hennig\n",
            "1 Andrew Wilson (Businessman)\n",
            "1 Android (Operating System)\n",
            "1 Andromeda Galaxy\n",
            "1 Andy Hollis\n",
            "1 Anime\n",
            "1 Anime News Network\n",
            "1 Anthem (Video Game)\n",
            "1 App Store (Ios)\n",
            "1 Appropriation (Art)\n",
            "1 Archetype Entertainment\n",
            "1 Army Of Two\n",
            "1 Ars Technica\n",
            "1 Asari (Mass Effect)\n",
            "1 Ashley Williams (Mass Effect)\n",
            "1 Avi Arad\n",
            "Could not load Avi Arad\n",
            "1 Baldur'S Gate\n",
            "Could not load Baldur'S Gate\n",
            "1 Baldur'S Gate: Tales Of The Sword Coast\n",
            "1 Baldur'S Gate (Video Game)\n",
            "Could not load Baldur'S Gate (Video Game)\n",
            "1 Baldur'S Gate Ii: Shadows Of Amn\n",
            "1 Baldur'S Gate Ii: Throne Of Bhaal\n",
            "1 Battlefield (Video Game Series)\n",
            "1 Battlestar Galactica\n",
            "1 Beamdog\n",
            "1 Bejeweled (Series)\n",
            "1 Bing Gordon\n",
            "1 Bioware\n",
            "Could not load Bioware\n",
            "1 Blackberry 10\n",
            "Could not load Blackberry 10\n",
            "1 Black Isle Studios\n",
            "1 Blade Runner\n",
            "1 Bookworm (Video Game)\n",
            "Could not load Bookworm (Video Game)\n",
            "1 Box Set\n",
            "1 Brian Lara Cricket (Series)\n",
            "1 Bullfrog Productions\n",
            "1 Burnout (Series)\n",
            "1 Business Insider\n",
            "1 California'S Great America\n",
            "1 Canada\n",
            "Could not load Canada\n",
            "1 Casey Hudson\n",
            "1 Catherynne M. Valente\n",
            "1 Cerberus Network\n",
            "1 Character Class\n",
            "1 Characters Of Mass Effect\n",
            "1 Characters Of The Mass Effect Universe\n",
            "1 Charon (Moon)\n",
            "1 Chocolatier (Video Game)\n",
            "Could not load Chocolatier (Video Game)\n",
            "1 Choose Your Own Adventure\n",
            "1 Citadel (Mass Effect)\n",
            "1 Clint Mansell\n",
            "Could not load Clint Mansell\n",
            "1 Codemasters\n",
            "1 Colin Mcrae Rally And Dirt\n",
            "1 Colin Moriarty\n",
            "1 Comic Book\n",
            "Could not load Comic Book\n",
            "1 Command & Conquer\n",
            "1 Command & Conquer (Cancelled Video Game)\n",
            "Could not load Command & Conquer (Cancelled Video Game)\n",
            "1 Commander Shepard\n",
            "1 Conflict Of Interest\n",
            "1 Controversies Surrounding Mass Effect 3\n",
            "1 Copyright Infringement\n",
            "1 Cricket (Video Game Series)\n",
            "1 Criterion Games\n",
            "1 Criticism Of Electronic Arts\n",
            "1 Cryopreservation\n",
            "1 Crysis\n",
            "1 Cut & Paste\n",
            "1 Cutscene\n",
            "1 Dc Direct\n",
            "1 Dice (Company)\n",
            "1 Drosoft\n",
            "1 Danger Close Games\n",
            "1 Dark Horse Comics\n",
            "1 Dark Energy\n",
            "1 David Gaider\n",
            "Could not load David Gaider\n",
            "1 Dead Space\n",
            "Could not load Dead Space\n",
            "1 Deadline Hollywood\n",
            "1 Deer Hunter (Series)\n",
            "1 Del Rey Books\n",
            "1 Deluxe Music Construction Set\n",
            "1 Deluxe Paint\n",
            "1 Deluxe Paint Animation\n",
            "1 Demiurge Studios\n",
            "1 Destructoid\n",
            "1 Deus Ex (Video Game)\n",
            "1 Dialogue Tree\n",
            "1 Diner Dash\n",
            "Could not load Diner Dash\n",
            "1 Distinctive Software\n",
            "1 Dizzy (Series)\n",
            "1 Don Mattrick\n",
            "Could not load Don Mattrick\n",
            "1 Donald Trump 2016 Presidential Campaign\n",
            "1 Downloadable Content\n",
            "1 Dragon Age\n",
            "1 Dragon Age: Inquisition\n",
            "1 Dragon Age: Origins\n",
            "1 Dragon Age: Origins – Awakening\n",
            "1 Dragon Age: The Veilguard\n",
            "1 Dragon Age Ii\n",
            "1 Dragon Age Legends\n",
            "1 Dream Chronicles\n",
            "1 Drew Karpyshyn\n",
            "1 Dune (Franchise)\n",
            "1 Dungeon Keeper (Series)\n",
            "1 E3 2015\n",
            "1 Ea App\n",
            "1 Ea Black Box\n",
            "1 Ea Bright Light\n",
            "1 Ea Chicago\n",
            "1 Ea Gothenburg\n",
            "1 Ea Mobile\n",
            "Could not load Ea Mobile\n",
            "1 Ea Montreal\n",
            "1 Ea Pacific\n",
            "1 Ea Phenomic\n",
            "1 Ea Play\n",
            "Could not load Ea Play\n",
            "1 Ea Salt Lake\n",
            "1 Ea Sports\n",
            "Could not load Ea Sports\n",
            "1 Ea Sports College Football\n",
            "1 Ea Sports Fc\n",
            "1 Ea Sports Nascar\n",
            "1 Ea Sports Ufc\n",
            "Could not load Ea Sports Ufc\n",
            "1 Ea Tiburon\n",
            "1 Ea Vancouver\n",
            "1 Earth\n",
            "1 Edge Of Reality\n",
            "1 Ego (Game Engine)\n",
            "1 Elder Race\n",
            "1 Electronic Arts\n",
            "1 Eurogamer\n",
            "1 Experience Level\n",
            "1 F1 (Video Game Series)\n",
            "Could not load F1 (Video Game Series)\n",
            "1 Fifa (Video Game Series)\n",
            "1 Fifa Manager\n",
            "1 Fan Film\n",
            "1 Fan Labor\n",
            "1 Faster-Than-Light Travel\n",
            "Could not load Faster-Than-Light Travel\n",
            "1 Federal Trade Commission\n",
            "1 Feeding Frenzy (Video Game)\n",
            "Could not load Feeding Frenzy (Video Game)\n",
            "1 Fight Night (Video Game Series)\n",
            "1 Final Fantasy: The Spirits Within\n",
            "1 Firefly (Tv Series)\n",
            "1 Firemonkeys Studios\n",
            "1 Forbes\n",
            "1 Free Comic Book Day\n",
            "1 Frostbite (Game Engine)\n",
            "1 Frostbite 3\n",
            "1 Funimation Entertainment\n",
            "1 Gamedaily\n",
            "1 Gamefly\n",
            "1 Gamespot\n",
            "1 Game Informer\n",
            "1 Gamesradar\n",
            "1 Gamescom\n",
            "1 Garrus Vakarian\n",
            "1 Gender Representation In Video Games\n",
            "1 Gizmodo\n",
            "1 Glu Mobile\n",
            "1 Greek Mythology\n",
            "1 Greg Kasavin\n",
            "1 Greg Zeschuk\n",
            "1 Grid (Series)\n",
            "1 Halo (Franchise)\n",
            "1 Han Solo\n",
            "Could not load Han Solo\n",
            "1 Hasbro Family Game Night\n",
            "1 History Of Video Game Consoles (Seventh Generation)\n",
            "1 Holography In Fiction\n",
            "1 Homosexuality\n",
            "1 Hypervelocity\n",
            "1 Hypnotix\n",
            "1 Ign\n",
            "Could not load Ign\n",
            "1 Ios\n",
            "Could not load Ios\n",
            "1 Ignite (Game Engine)\n",
            "1 Illusive Man\n",
            "1 Imgur\n",
            "Could not load Imgur\n",
            "1 Inxile Entertainment\n",
            "1 Industrial Toys\n",
            "1 Ireland\n",
            "1 Isaac Asimov\n",
            "1 Jack (Mass Effect)\n",
            "1 Jacob Taylor\n",
            "1 Jacob Taylor (Mass Effect)\n",
            "1 Jade Empire\n",
            "1 Jade Raymond\n",
            "1 James Ohlen\n",
            "1 James Vega\n",
            "1 Jeff \"Joker\" Moreau\n",
            "1 Jeff Green (Writer)\n",
            "1 Jeff Hickman\n",
            "1 Jennifer Hepler\n",
            "Could not load Jennifer Hepler\n",
            "1 Jessica Chobot\n",
            "1 Joe Ybarra\n",
            "1 John Riccitiello\n",
            "1 Joker (Mass Effect)\n",
            "1 Kaidan Alenko\n",
            "1 Kesmai\n",
            "1 Kevin Martens\n",
            "1 Kingsoft Gmbh\n",
            "1 Knockout Kings\n",
            "1 Kotaku\n",
            "1 Krogan\n",
            "1 Lma Manager\n",
            "Could not load Lma Manager\n",
            "1 Larry Probst\n",
            "1 Laura Miele\n",
            "Could not load Laura Miele\n",
            "1 Legendary Pictures\n",
            "Could not load Legendary Pictures\n",
            "1 Legion (Mass Effect)\n",
            "1 Liara T'Soni\n",
            "1 Louis Castle\n",
            "1 Mdk2\n",
            "Could not load Mdk2\n",
            "1 Ms-Dos\n",
            "Could not load Ms-Dos\n",
            "1 Msnbc\n",
            "1 Mvp Baseball (Video Game Series)\n",
            "1 Mac Walters\n",
            "1 Madden Nfl\n",
            "1 Mako (Mass Effect)\n",
            "1 Manley & Associates\n",
            "1 Manveer Heir\n",
            "1 Mark Meer\n",
            "1 Mark Protosevich\n",
            "1 Mark Skaggs\n",
            "1 Mars\n",
            "Could not load Mars\n",
            "1 Mass Effect: Andromeda\n",
            "1 Mass Effect: Andromeda (Book Series)\n",
            "1 Mass Effect: Ascension\n",
            "1 Mass Effect: Deception\n",
            "1 Mass Effect: Foundation\n",
            "1 Mass Effect: New Earth\n",
            "1 Mass Effect: Paragon Lost\n",
            "1 Mass Effect: Pinnacle Station\n",
            "1 Mass Effect: Redemption\n",
            "1 Mass Effect: Retribution\n",
            "1 Mass Effect: Revelation\n",
            "1 Mass Effect (Video Game)\n",
            "1 Mass Effect 2\n",
            "1 Mass Effect 2: Arrival\n",
            "1 Mass Effect 2: Kasumi – Stolen Memory\n",
            "1 Mass Effect 2: Lair Of The Shadow Broker\n",
            "1 Mass Effect 2: Overlord\n",
            "1 Mass Effect 2 Downloadable Content\n",
            "1 Mass Effect 3\n",
            "1 Mass Effect 3: Citadel\n",
            "1 Mass Effect 3: From Ashes\n",
            "1 Mass Effect 3: Leviathan\n",
            "1 Mass Effect 3: Omega\n",
            "1 Mass Effect 3 Downloadable Content\n",
            "1 Mass Effect 3 Ending Controversy\n",
            "1 Mass Effect Galaxy\n",
            "1 Mass Effect Infiltrator\n",
            "1 Mass Effect Legendary Edition\n",
            "1 Mass Effect (Medicine)\n",
            "1 Maxis\n",
            "1 Medal Of Honor (Video Game Series)\n",
            "1 Media Franchise\n",
            "1 Mercenaries (Series)\n",
            "1 Metacritic\n",
            "1 Mic (Media Company)\n",
            "1 Micro Machines (Video Game Series)\n",
            "1 Microsoft Game Studios\n",
            "1 Microsoft Windows\n",
            "1 Mike Laidlaw\n",
            "1 Military Science Fiction\n",
            "1 Milky Way\n",
            "Could not load Milky Way\n",
            "1 Miranda Lawson\n",
            "1 Mirror'S Edge\n",
            "1 Monopoly (Game)\n",
            "1 Mordin Solus\n",
            "1 Motive Studio\n",
            "1 Motive Studios\n",
            "1 Music Construction Set\n",
            "1 Mythic Entertainment\n",
            "1 N.K. Jemisin\n",
            "1 Nasa\n",
            "1 Nba Live\n",
            "1 Nba Street (Video Game Series)\n",
            "1 Ncaa Basketball Series\n",
            "1 Nfl Street (Video Game Series)\n",
            "1 Nhl (Video Game Series)\n",
            "Could not load Nhl (Video Game Series)\n",
            "1 Nwscript\n",
            "1 Need For Speed\n",
            "1 Neoconservatism\n",
            "1 Neverwinter Nights\n",
            "1 Neverwinter Nights: Hordes Of The Underdark\n",
            "1 Neverwinter Nights: Kingmaker\n",
            "1 Neverwinter Nights: Shadows Of Undrentide\n",
            "1 Neverwinter Nights (2002 Video Game)\n",
            "1 New York Comic Con\n",
            "1 Nintendo Ds\n",
            "Could not load Nintendo Ds\n",
            "1 Ninth Generation Of Video Game Consoles\n",
            "1 Normandy (Mass Effect)\n",
            "1 Nufx\n",
            "Could not load Nufx\n",
            "1 Nudity\n",
            "Could not load Nudity\n",
            "1 Obsidian Entertainment\n",
            "1 Operation Flashpoint\n",
            "1 Origin (Service)\n",
            "1 Origin Systems\n",
            "1 Overlord (Video Game Series)\n",
            "1 Pc Gamer\n",
            "1 Pga Tour (Video Game Series)\n",
            "1 Pr Newswire\n",
            "1 Pandemic Studios\n",
            "1 Patrick Söderlund\n",
            "1 Patrick Weekes\n",
            "1 Peggle (Series)\n",
            "1 Peter Moore (Businessman)\n",
            "1 Plants Vs. Zombies\n",
            "Could not load Plants Vs. Zombies\n",
            "1 Playnation\n",
            "1 Playstation 3\n",
            "1 Playstation 4\n",
            "1 Playstation 5\n",
            "1 Playstation Now\n",
            "1 Player Character\n",
            "1 Playfish\n",
            "1 Pogo.Com\n",
            "1 Polygon (Website)\n",
            "1 Popcap Games\n",
            "Could not load Popcap Games\n",
            "1 Populous (Series)\n",
            "1 Prima Games\n",
            "1 Prime Video\n",
            "1 Project Cars\n",
            "1 Propaganda Through Media\n",
            "1 Quarian\n",
            "1 Ralph Guggenheim\n",
            "1 Ray Muzyka\n",
            "1 Real Racing (Video Game)\n",
            "1 Reapers (Mass Effect)\n",
            "1 Renderware\n",
            "1 Respawn Entertainment\n",
            "1 Review Aggregator\n",
            "1 Risk (Board Game)\n",
            "1 Road Rash\n",
            "Could not load Road Rash\n",
            "1 Robin Hunicke\n",
            "1 Role-Playing Game\n",
            "1 Role Playing Game\n",
            "1 Romania\n",
            "Could not load Romania\n",
            "1 Rupture (Social Networking)\n",
            "1 Ssx (Video Game Series)\n",
            "Could not load Ssx (Video Game Series)\n",
            "1 Salarian\n",
            "1 Samara (Mass Effect)\n",
            "1 Sandy Hook Elementary School Shooting\n",
            "1 Saren Arterius\n",
            "1 Science Fiction\n",
            "1 Sexual Minority\n",
            "1 Shadow Realms\n",
            "1 Shank (Video Game)\n",
            "Could not load Shank (Video Game)\n",
            "1 Shattered Steel\n",
            "1 Shelley Day\n",
            "1 Simcity\n",
            "Could not load Simcity\n",
            "1 Singapore\n",
            "1 Skate (Series)\n",
            "1 Skill Tree\n",
            "1 Slightly Mad Studios\n",
            "1 Social Media Use By Donald Trump\n",
            "1 Sonic Chronicles: The Dark Brotherhood\n",
            "1 Soundscape\n",
            "Could not load Soundscape\n",
            "1 Space Force\n",
            "Could not load Space Force\n",
            "1 Space Opera\n",
            "1 Space Warfare In Fiction\n",
            "1 Spike Tv\n",
            "Could not load Spike Tv\n",
            "1 Spore (2008 Video Game)\n",
            "1 Star Control\n",
            "Could not load Star Control\n",
            "1 Star Trek\n",
            "Could not load Star Trek\n",
            "1 Star Wars\n",
            "Could not load Star Wars\n",
            "1 Star Wars: Battlefront\n",
            "1 Star Wars: Knights Of The Old Republic (Video Game)\n",
            "Could not load Star Wars: Knights Of The Old Republic (Video Game)\n",
            "1 Star Wars: The Old Republic\n",
            "1 Star Wars: The Old Republic – Rise Of The Hutt Cartel\n",
            "1 Star Wars Video Games\n",
            "Could not load Star Wars Video Games\n",
            "1 Starflight\n",
            "Could not load Starflight\n",
            "1 Starship Troopers (Film)\n",
            "1 Steve Barcia\n",
            "1 Steve Cortez\n",
            "Could not load Steve Cortez\n",
            "1 Straight Right\n",
            "1 Strike (Video Game Series)\n",
            "Could not load Strike (Video Game Series)\n",
            "1 Studio 33\n",
            "1 Suicide Mission (Mass Effect 2)\n",
            "1 Sunday Express\n",
            "1 Super Mega Baseball\n",
            "1 Syfy Wire\n",
            "1 Syndicate (Series)\n",
            "1 T.O Entertainment\n",
            "1 Toca (Series)\n",
            "1 Tali'Zorah\n",
            "1 Tempe, Arizona\n",
            "1 Terraforming\n",
            "1 Thane Krios\n",
            "1 The Escapist (Magazine)\n",
            "1 The Force\n",
            "1 The Georgia Straight\n",
            "1 The Guardian\n",
            "1 The New York Times\n",
            "Could not load The New York Times\n",
            "1 The Sims\n",
            "Could not load The Sims\n",
            "1 Third-Person Shooter\n",
            "1 Thomas Tull\n",
            "Could not load Thomas Tull\n",
            "1 Titan Books\n",
            "1 Titanfall\n",
            "Could not load Titanfall\n",
            "1 Trip Hawkins\n",
            "1 Triple Play (Video Game Series)\n",
            "Could not load Triple Play (Video Game Series)\n",
            "1 Troika Games\n",
            "1 Turian (Mass Effect)\n",
            "1 Turians\n",
            "1 Usa Today\n",
            "Could not load Usa Today\n",
            "1 Ultima (Series)\n",
            "1 United States Patent & Trademark Office\n",
            "1 Universe Of Mass Effect\n",
            "1 University Of Advancing Technology\n",
            "1 Unravel (Video Game)\n",
            "Could not load Unravel (Video Game)\n",
            "1 Unreal Engine\n",
            "Could not load Unreal Engine\n",
            "1 Urdnot Wrex\n",
            "1 Vg Holding Corp.\n",
            "1 Vanguard (Military Tactics)\n",
            "1 Variety (Magazine)\n",
            "1 Video Game Controversies\n",
            "1 Video Game Developer\n",
            "1 Video Game Genre\n",
            "1 Video Game Publisher\n",
            "1 Violence And Video Games\n",
            "1 Visceral Games\n",
            "1 Wrc (Video Game Series)\n",
            "Could not load Wrc (Video Game Series)\n",
            "1 Warner Bros.\n",
            "1 Wayback Machine\n",
            "1 Weapon Of Mass Destruction\n",
            "1 Westwood Studios\n",
            "1 Wii U\n",
            "Could not load Wii U\n",
            "1 Will Wright (Game Designer)\n",
            "1 William C. Dietz\n",
            "1 Windows Phone\n",
            "1 Windows Phone 8\n",
            "1 Wing Commander (Franchise)\n",
            "1 Wired (Magazine)\n",
            "1 Xbox 360\n",
            "1 Xbox One\n",
            "Could not load Xbox One\n",
            "1 Xbox Series X And Series S\n",
            "Could not load Xbox Series X And Series S\n",
            "1 Zuma (Video Game)\n"
          ]
        }
      ]
    },
    {
      "cell_type": "code",
      "source": [
        "print(\"{} nodes, {} edges\".format(len(g2), nx.number_of_edges(g2)))"
      ],
      "metadata": {
        "id": "QlBxiDGtwrTc",
        "colab": {
          "base_uri": "https://localhost:8080/"
        },
        "outputId": "b505ff4f-c343-4e4f-9f2e-62d29a6c350d"
      },
      "execution_count": 17,
      "outputs": [
        {
          "output_type": "stream",
          "name": "stdout",
          "text": [
            "48544 nodes, 105166 edges\n"
          ]
        }
      ]
    },
    {
      "cell_type": "markdown",
      "source": [
        "## Cleaning graphs"
      ],
      "metadata": {
        "id": "4VJJkIMPiyoM"
      }
    },
    {
      "cell_type": "code",
      "source": [
        "original0 = g0.copy()\n",
        "original1 = g1.copy()\n",
        "original2 = g2.copy()\n"
      ],
      "metadata": {
        "id": "L_AdndbiBnWW"
      },
      "execution_count": 18,
      "outputs": []
    },
    {
      "cell_type": "code",
      "source": [
        "def limpar_grafo (g):\n",
        "  # remove self loops\n",
        "  g.remove_edges_from(nx.selfloop_edges(g))\n",
        "\n",
        "  # remove isolated nodes\n",
        "  g.remove_nodes_from(list(nx.isolates(g)))\n",
        "\n",
        "  # identify duplicates like that: 'network' and 'networks'\n",
        "  duplicates = [(node, node + \"s\")\n",
        "                for node in g if node + \"s\" in g\n",
        "              ]\n",
        "\n",
        "  for dup in duplicates:\n",
        "    # *dup is a technique named 'unpacking'\n",
        "    g = nx.contracted_nodes(g, *dup, self_loops=False)\n",
        "\n",
        "  print(duplicates)\n",
        "\n",
        "  # nx.contracted creates a new node/edge attribute called contraction\n",
        "  # the value of the attribute is a dictionary, but GraphML\n",
        "  # does not support dictionary attributes\n",
        "  nx.set_node_attributes(g, 0,\"contraction\")\n",
        "  nx.set_edge_attributes(g, 0,\"contraction\")"
      ],
      "metadata": {
        "id": "K0YwPpV2B_lc"
      },
      "execution_count": 19,
      "outputs": []
    },
    {
      "cell_type": "code",
      "source": [
        "limpar_grafo(g0)"
      ],
      "metadata": {
        "colab": {
          "base_uri": "https://localhost:8080/"
        },
        "id": "arcq4rq9Phc8",
        "outputId": "5448fa10-aadd-4b30-9518-852c5a30a9f2"
      },
      "execution_count": 20,
      "outputs": [
        {
          "output_type": "stream",
          "name": "stdout",
          "text": [
            "[('A-Level', 'A-Levels'), ('British Lgbt Award', 'British Lgbt Awards'), ('House Of The Dragon', 'House Of The Dragons'), ('Off West End Theatre Award', 'Off West End Theatre Awards'), ('Ancient Greek', 'Ancient Greeks'), ('Blog', 'Blogs'), ('Hate Crime', 'Hate Crimes'), ('Pogrom', 'Pogroms'), ('Adele Park', 'Adele Parks'), ('Audie Award For Short Stories Or Collection', 'Audie Award For Short Stories Or Collections'), ('Afro-German', 'Afro-Germans'), ('Lesbian Bar', 'Lesbian Bars'), ('Audie Award', 'Audie Awards'), ('Forced Marriage', 'Forced Marriages'), ('Gender Role', 'Gender Roles'), ('Sexually Transmitted Infection', 'Sexually Transmitted Infections'), ('Testicle', 'Testicles'), ('Primetime Emmy Award', 'Primetime Emmy Awards'), ('Academy Award', 'Academy Awards'), ('Thriller Film', 'Thriller Films'), ('Vtuber', 'Vtubers'), ('Video Essay', 'Video Essays'), ('Timeline Of Bbc', 'Timeline Of Bbcs'), ('Coral Reef', 'Coral Reefs'), ('Electric Vehicle', 'Electric Vehicles'), ('Ice Age', 'Ice Ages'), ('Ice Sheet', 'Ice Sheets'), ('Nationally Determined Contribution', 'Nationally Determined Contributions'), ('Plant-Based Diet', 'Plant-Based Diets'), ('Civil Union', 'Civil Unions'), ('Drag Queen', 'Drag Queens'), ('Emmy Award', 'Emmy Awards'), ('Sexologist', 'Sexologists'), ('Tomboy', 'Tomboys'), ('Showtime Network', 'Showtime Networks'), ('Sport', 'Sports'), ('Cameo Appearance', 'Cameo Appearances'), ('Esport', 'Esports'), ('Fighting Game', 'Fighting Games'), ('Puberty Blocker', 'Puberty Blockers'), ('Tony Award', 'Tony Awards'), ('Crusade', 'Crusades'), ('Identical Twin', 'Identical Twins'), ('Peabody Award', 'Peabody Awards'), ('Art', 'Arts'), ('Golden Globe Award', 'Golden Globe Awards'), ('Webby Award', 'Webby Awards'), ('Religion', 'Religions'), ('Revolution', 'Revolutions'), ('Social Science', 'Social Sciences'), ('Meteorologist', 'Meteorologists'), ('Golden Globe', 'Golden Globes'), ('Nazi', 'Nazis'), ('Olivier Award', 'Olivier Awards'), ('Saturn Award', 'Saturn Awards'), ('Newspaper', 'Newspapers'), ('Anxiety Disorder', 'Anxiety Disorders'), ('Honorary Degree', 'Honorary Degrees'), ('Video Game', 'Video Games'), ('Middle Name', 'Middle Names'), ('Naming Convention', 'Naming Conventions'), ('Nickname', 'Nicknames'), ('Onomastic', 'Onomastics'), ('Pen Name', 'Pen Names'), ('Proto-Indo-European', 'Proto-Indo-Europeans'), ('Title', 'Titles'), ('Arab', 'Arabs'), ('Blaydon Race', 'Blaydon Races'), ('British Asian', 'British Asians'), ('Metropolitan Borough', 'Metropolitan Boroughs'), ('Slammy Award', 'Slammy Awards'), ('Glaad Media Award', 'Glaad Media Awards'), ('Fine Art', 'Fine Arts'), ('Socrate', 'Socrates'), ('Computer', 'Computers'), ('Mobile Device', 'Mobile Devices'), ('Natural Science', 'Natural Sciences'), ('Book Collector', 'Book Collectors'), ('Sexually Transmitted Disease', 'Sexually Transmitted Diseases'), ('Dissociative Disorder', 'Dissociative Disorders'), ('Suffragette', 'Suffragettes'), ('Suicide Method', 'Suicide Methods'), ('Guardian Student Media Award', 'Guardian Student Media Awards'), ('Russian Oligarch', 'Russian Oligarchs'), ('War Crime', 'War Crimes'), ('Irish Catholic', 'Irish Catholics'), ('Grammy Award', 'Grammy Awards'), ('Visual Effect', 'Visual Effects'), ('Secondary Sex Characteristic', 'Secondary Sex Characteristics'), ('Language', 'Languages'), ('Reform', 'Reforms'), ('Social Scientist', 'Social Scientists'), ('Huguenot', 'Huguenots'), ('Masque', 'Masques')]\n"
          ]
        }
      ]
    },
    {
      "cell_type": "code",
      "source": [
        "limpar_grafo(g1)"
      ],
      "metadata": {
        "colab": {
          "base_uri": "https://localhost:8080/"
        },
        "id": "k8RDx6mEQhI4",
        "outputId": "203086fb-4f7d-4623-d3bb-b39b83973b52"
      },
      "execution_count": 21,
      "outputs": [
        {
          "output_type": "stream",
          "name": "stdout",
          "text": [
            "[('Role-Playing Video Game', 'Role-Playing Video Games'), ('Slave Rebellion', 'Slave Rebellions'), ('Strategy Video Game', 'Strategy Video Games'), ('Video Game Developer', 'Video Game Developers'), ('Video Game Genre', 'Video Game Genres'), ('Video Game Publisher', 'Video Game Publishers'), ('Action-Adventure Game', 'Action-Adventure Games'), ('Action Role-Playing Game', 'Action Role-Playing Games'), ('Adventure Game', 'Adventure Games'), ('Casual Game', 'Casual Games'), ('City-Building Game', 'City-Building Games'), ('Cutscene', 'Cutscenes'), ('Digital Collectible Card Game', 'Digital Collectible Card Games'), ('First-Person Shooter', 'First-Person Shooters'), ('Indie Game', 'Indie Games'), ('Rhythm Game', 'Rhythm Games'), ('Tactical Shooter', 'Tactical Shooters'), ('Video Game', 'Video Games'), ('Emmy Award', 'Emmy Awards'), ('Graphic Novel', 'Graphic Novels'), ('Hugo Award', 'Hugo Awards'), ('Nebula Award', 'Nebula Awards'), ('White Walker', 'White Walkers'), ('World Fantasy Award', 'World Fantasy Awards'), ('Mobile Device', 'Mobile Devices'), ('Mobile Game', 'Mobile Games'), ('Pc Game', 'Pc Games'), ('Smartphone', 'Smartphones'), ('Game Engine', 'Game Engines'), ('Http', 'Https'), ('Saint', 'Saints'), ('Theories About Religion', 'Theories About Religions'), ('Tablet Computer', 'Tablet Computers'), ('Video Game Console', 'Video Game Consoles'), ('Arthropod', 'Arthropods'), ('Deuterostome', 'Deuterostomes'), ('Protostome', 'Protostomes'), ('Sport', 'Sports'), ('Vertebrate', 'Vertebrates'), ('Working Animal', 'Working Animals'), ('Non-Playable Character', 'Non-Playable Characters'), ('Genre', 'Genres'), ('Jew', 'Jews'), ('Roman Emperor', 'Roman Emperors'), ('Tabletop Role-Playing Game', 'Tabletop Role-Playing Games'), ('Experience Point', 'Experience Points'), ('D.I.C.E. Award', 'D.I.C.E. Awards'), ('Non-Player Character', 'Non-Player Characters'), ('Gender Role', 'Gender Roles'), ('Pogrom', 'Pogroms'), ('Russian Oligarch', 'Russian Oligarchs'), ('Scholar', 'Scholars'), ('Role-Playing Game', 'Role-Playing Games'), ('Virtue', 'Virtues'), ('Arcade Game', 'Arcade Games'), ('Computer Game', 'Computer Games'), ('Electronic Game', 'Electronic Games'), ('Mainframe Computer', 'Mainframe Computers'), ('Platform Holder', 'Platform Holders'), ('Strategy Game', 'Strategy Games'), ('Action Figure', 'Action Figures'), ('Comic Book', 'Comic Books'), ('British Fantasy Award', 'British Fantasy Awards'), ('Fantasy Trope', 'Fantasy Tropes'), ('Pulp Magazine', 'Pulp Magazines'), ('Supremacist', 'Supremacists'), ('Microtransaction', 'Microtransactions'), ('Side Quest', 'Side Quests'), ('Video Game Journalist', 'Video Game Journalists'), ('Blót', 'Blóts'), ('Edda', 'Eddas'), (\"Jack-O'-Lantern\", \"Jack-O'-Lanterns\"), ('Thegn', 'Thegns'), ('Timeline Of Edmonton', 'Timeline Of Edmontons'), ('Anglo-Saxon', 'Anglo-Saxons'), ('Forest', 'Forests'), ('Gregorian Reform', 'Gregorian Reforms'), ('Miracle', 'Miracles'), ('Saxon', 'Saxons'), ('Serf', 'Serfs'), ('Viking', 'Vikings'), ('Gamebook', 'Gamebooks'), ('Vassal', 'Vassals'), ('Glaad Media Award', 'Glaad Media Awards'), ('Primetime Emmy Award', 'Primetime Emmy Awards'), ('Eisner Award', 'Eisner Awards'), ('Motive Studio', 'Motive Studios'), ('Chiptune', 'Chiptunes'), ('Shoulder Button', 'Shoulder Buttons'), ('Video Game Platform', 'Video Game Platforms'), ('African American', 'African Americans'), ('Californio', 'Californios'), ('Major Film Studio', 'Major Film Studios'), ('Metropolitan Statistical Area', 'Metropolitan Statistical Areas'), ('Alternate Reality Game', 'Alternate Reality Games'), ('Peabody Award', 'Peabody Awards'), ('Saturn Award', 'Saturn Awards'), ('Visual Effects Society Award', 'Visual Effects Society Awards'), ('Fate', 'Fates'), ('Pointed Hat', 'Pointed Hats'), ('Planetary System', 'Planetary Systems'), ('Comic', 'Comics'), ('Webby Award', 'Webby Awards'), ('Window', 'Windows'), ('Workstation', 'Workstations'), ('Data Center', 'Data Centers'), ('Arcade Classic', 'Arcade Classics'), ('Haro Strait', 'Haro Straits'), ('Southern Resident Killer Whale', 'Southern Resident Killer Whales'), ('Princely State', 'Princely States'), ('Poet', 'Poets'), ('Alter Ego', 'Alter Egos'), ('Teraflop', 'Teraflops'), ('Amusement Arcade', 'Amusement Arcades'), ('Polygon', 'Polygons'), ('Logo', 'Logos'), ('Meteorologist', 'Meteorologists'), ('Newspaper', 'Newspapers'), ('Canadian', 'Canadians'), ('Generic Role-Playing Game System', 'Generic Role-Playing Game Systems'), ('Mongol', 'Mongols'), ('Afro-Mexican', 'Afro-Mexicans'), ('Byzantine Greek', 'Byzantine Greeks'), ('Gaul', 'Gauls'), ('Slave', 'Slaves'), ('Sweatshop', 'Sweatshops'), ('Rootkit', 'Rootkits'), ('Early Mainframe Game', 'Early Mainframe Games'), ('Tactical Wargame', 'Tactical Wargames'), ('Virtual Private Network', 'Virtual Private Networks'), ('Soundtrack', 'Soundtracks'), ('Roman Magistrate', 'Roman Magistrates'), ('Royalty Payment', 'Royalty Payments'), ('Game Console', 'Game Consoles'), ('Varangian', 'Varangians'), ('Viking Ship', 'Viking Ships'), ('Browser War', 'Browser Wars'), ('Daytime Emmy Award', 'Daytime Emmy Awards'), ('Rca Connector', 'Rca Connectors'), ('Monthly Active User', 'Monthly Active Users'), ('Pageview', 'Pageviews')]\n"
          ]
        }
      ]
    },
    {
      "cell_type": "code",
      "source": [
        "limpar_grafo(g2)"
      ],
      "metadata": {
        "colab": {
          "base_uri": "https://localhost:8080/"
        },
        "id": "79gQd3sdQknZ",
        "outputId": "694173df-595b-4dcd-d025-03a8754a5a4f"
      },
      "execution_count": 22,
      "outputs": [
        {
          "output_type": "stream",
          "name": "stdout",
          "text": [
            "[('Business Insider', 'Business Insiders'), ('Cutscene', 'Cutscenes'), ('Motive Studio', 'Motive Studios'), ('Player Character', 'Player Characters'), ('Video Game Genre', 'Video Game Genres'), ('Video Game Publisher', 'Video Game Publishers'), ('Podcast', 'Podcasts'), ('Video Game', 'Video Games'), ('Action Game', 'Action Games'), ('Action Role-Playing Game', 'Action Role-Playing Games'), (\"Beat 'Em Up\", \"Beat 'Em Ups\"), ('City-Building Game', 'City-Building Games'), ('Digital Collectible Card Game', 'Digital Collectible Card Games'), ('Expansion Pack', 'Expansion Packs'), ('Fighting Game', 'Fighting Games'), ('First-Person Shooter', 'First-Person Shooters'), ('Grand Strategy Wargame', 'Grand Strategy Wargames'), ('Multiplayer Video Game', 'Multiplayer Video Games'), ('Racing Game', 'Racing Games'), ('Rhythm Game', 'Rhythm Games'), (\"Shoot 'Em Up\", \"Shoot 'Em Ups\"), ('Strategy Video Game', 'Strategy Video Games'), ('Tactical Shooter', 'Tactical Shooters'), ('Tile-Matching Video Game', 'Tile-Matching Video Games'), ('Video Game Clone', 'Video Game Clones'), ('Non-Player Character', 'Non-Player Characters'), ('Game Engine', 'Game Engines'), ('Soundtrack', 'Soundtracks'), ('Iphone 3G', 'Iphone 3Gs'), ('Robot', 'Robots'), ('Smartphone', 'Smartphones'), ('United States Dollar', 'United States Dollars'), ('Video Game Console', 'Video Game Consoles'), ('Web Search Engine', 'Web Search Engines'), ('Arthropod', 'Arthropods'), ('Bat', 'Bats'), ('Bird', 'Birds'), ('Chemical Element', 'Chemical Elements'), ('Ciliate', 'Ciliates'), ('Deuterostome', 'Deuterostomes'), ('Embryo', 'Embryos'), ('Plant', 'Plants'), ('Predator', 'Predators'), ('Protostome', 'Protostomes'), ('Sport', 'Sports'), ('Tropical Cyclone', 'Tropical Cyclones'), ('Vertebrate', 'Vertebrates'), ('Working Animal', 'Working Animals'), ('Non-Playable Character', 'Non-Playable Characters'), ('Iphone X', 'Iphone Xs'), ('Mobile Device', 'Mobile Devices'), ('Found Object', 'Found Objects'), ('Graphic Novel', 'Graphic Novels'), ('Science Fiction Convention', 'Science Fiction Conventions'), ('Experience Point', 'Experience Points'), ('Academy Award', 'Academy Awards'), ('Emmy Award', 'Emmy Awards'), ('Motion Picture', 'Motion Pictures'), ('Arcade Game', 'Arcade Games'), ('Columbia Record', 'Columbia Records'), ('Golden Globe Award', 'Golden Globe Awards'), ('Hugo Award', 'Hugo Awards'), ('Webby Award', 'Webby Awards'), ('Mythopoeic Award', 'Mythopoeic Awards'), ('Mandalorian', 'Mandalorians'), ('Moon', 'Moons'), ('Mobile Game', 'Mobile Games'), ('Comic', 'Comics'), ('Microtransaction', 'Microtransactions'), ('Creative Commons License', 'Creative Commons Licenses'), ('Internet Service Provider', 'Internet Service Providers'), ('News Aggregator', 'News Aggregators'), ('Statutory Damage', 'Statutory Damages'), ('Sports Game', 'Sports Games'), ('Ecotype', 'Ecotypes'), ('Oocyte', 'Oocytes'), ('Organ Transplant', 'Organ Transplants'), ('Early Mainframe Game', 'Early Mainframe Games'), ('Computer Game', 'Computer Games'), ('Black Hole', 'Black Holes'), ('Pixel', 'Pixels'), ('Rgb', 'Rgbs'), ('Cd', 'Cds'), ('Cybernetic', 'Cybernetics'), ('Simulation Game', 'Simulation Games'), ('Home Computer', 'Home Computers'), ('Pen Name', 'Pen Names'), ('Side Quest', 'Side Quests'), ('Board Game', 'Board Games'), ('Computer', 'Computers'), ('Mentat', 'Mentats'), ('Pc Game', 'Pc Games'), ('Planetary System', 'Planetary Systems'), ('Dungeon', 'Dungeons'), ('Electronic Art', 'Electronic Arts'), ('Movie Theater', 'Movie Theaters'), ('Infectious Disease', 'Infectious Diseases'), ('Middle Age', 'Middle Ages'), ('Mortality Rate', 'Mortality Rates'), ('Software Art', 'Software Arts'), ('Polygon', 'Polygons'), ('Chilling Effect', 'Chilling Effects'), ('Musical Instrument', 'Musical Instruments'), ('Fangame', 'Fangames'), ('Imperial Stormtrooper', 'Imperial Stormtroopers'), ('Primetime Emmy Award', 'Primetime Emmy Awards'), ('Settler', 'Settlers'), ('Sound Effect', 'Sound Effects'), ('Glaad Media Award', 'Glaad Media Awards'), ('Giga Pet', 'Giga Pets'), ('Microconsole', 'Microconsoles'), ('T-Shirt', 'T-Shirts'), ('Gender Role', 'Gender Roles'), ('Gorgon', 'Gorgons'), ('Ichthyocentaur', 'Ichthyocentaurs'), ('Muse', 'Muses'), ('Nereid', 'Nereids'), ('Guinness World Record', 'Guinness World Records'), ('Aztec', 'Aztecs'), ('Brothel', 'Brothels'), ('Civil Union', 'Civil Unions'), ('Hate Crime', 'Hate Crimes'), ('Drought', 'Droughts'), ('Archipelago', 'Archipelagos'), ('Artificial Island', 'Artificial Islands'), ('Atoll', 'Atolls'), ('Barrier Island', 'Barrier Islands'), ('Continent', 'Continents'), ('Coral Reef', 'Coral Reefs'), ('Indigenous People', 'Indigenous Peoples'), ('Pulp Magazine', 'Pulp Magazines'), ('Electronic Game', 'Electronic Games'), ('Canadian Screen Award', 'Canadian Screen Awards'), ('Canadian', 'Canadians'), ('Keyboard Shortcut', 'Keyboard Shortcuts'), ('Window', 'Windows'), ('Workstation', 'Workstations'), ('Propaganda Film', 'Propaganda Films'), ('Subgenre', 'Subgenres'), ('Advocacy Group', 'Advocacy Groups'), ('House Rule', 'House Rules'), ('Playing Card', 'Playing Cards'), ('Intermolecular Force', 'Intermolecular Forces'), ('Ion', 'Ions'), ('Molecule', 'Molecules'), ('Phase Transition', 'Phase Transitions'), ('Thermodynamic', 'Thermodynamics'), ('Dixiecrat', 'Dixiecrats'), ('Natural Law', 'Natural Laws'), ('Social Norm', 'Social Norms'), ('Arcade Classic', 'Arcade Classics'), ('Chat Room', 'Chat Rooms'), ('Eisner Award', 'Eisner Awards'), ('Mysticon', 'Mysticons'), ('Digital-To-Analog Converter', 'Digital-To-Analog Converters'), ('Dow Jones Newswire', 'Dow Jones Newswires'), ('Telecommunication', 'Telecommunications'), ('Teraflop', 'Teraflops'), ('Hebrew', 'Hebrews'), ('Hadith', 'Hadiths'), ('Miracle', 'Miracles'), ('Muslim', 'Muslims'), ('Shiite', 'Shiites'), ('Hama', 'Hamas'), ('Airplane', 'Airplanes'), ('Chesley Award', 'Chesley Awards'), ('Mailing List', 'Mailing Lists'), ('Nuclear Weapon', 'Nuclear Weapons'), ('Planet', 'Planets'), ('Scholar', 'Scholars'), ('Singaporean', 'Singaporeans'), ('Shoulder Button', 'Shoulder Buttons'), ('Russian Interference In The 2016 United States Election', 'Russian Interference In The 2016 United States Elections'), ('Rootkit', 'Rootkits'), ('Tusken Raider', 'Tusken Raiders'), ('Jedi Mind Trick', 'Jedi Mind Tricks'), ('Guardian Student Media Award', 'Guardian Student Media Awards'), ('Swing State', 'Swing States'), ('Game Mechanic', 'Game Mechanics'), ('Cheat Code', 'Cheat Codes'), ('Royalty Payment', 'Royalty Payments'), ('Game Console', 'Game Consoles'), ('Pinball Machine', 'Pinball Machines'), ('Major Film Studio', 'Major Film Studios'), ('The Vindicator', 'The Vindicators'), ('Terabyte', 'Terabytes'), ('Chemical Weapon', 'Chemical Weapons'), ('Firearm', 'Firearms'), ('Radiological Weapon', 'Radiological Weapons'), ('Weapon', 'Weapons'), ('Rca Connector', 'Rca Connectors')]\n"
          ]
        }
      ]
    },
    {
      "cell_type": "code",
      "source": [
        "print(\"{} nodes, {} edges\".format(len(g0), nx.number_of_edges(g0)))\n",
        "print(\"{} nodes, {} edges\".format(len(g1), nx.number_of_edges(g1)))\n",
        "print(\"{} nodes, {} edges\".format(len(g2), nx.number_of_edges(g2)))"
      ],
      "metadata": {
        "colab": {
          "base_uri": "https://localhost:8080/"
        },
        "id": "5npXnQ_dCiR8",
        "outputId": "7cdc0888-70ff-4f6f-9093-dc2cb369e3c7"
      },
      "execution_count": 23,
      "outputs": [
        {
          "output_type": "stream",
          "name": "stdout",
          "text": [
            "35903 nodes, 52573 edges\n",
            "39837 nodes, 68923 edges\n",
            "48544 nodes, 105135 edges\n"
          ]
        }
      ]
    },
    {
      "cell_type": "markdown",
      "source": [
        "## Filtering nodes with 2 neighbors or more"
      ],
      "metadata": {
        "id": "3AbSyQ9anssv"
      }
    },
    {
      "cell_type": "code",
      "source": [
        "# filter nodes with degree greater than or equal to 2\n",
        "core = [node for node, deg in dict(g0.degree()).items() if deg >= 2]\n",
        "\n",
        "# select a subgraph with 'core' nodes\n",
        "gsub0 = nx.subgraph(g0, core)\n",
        "\n",
        "print(\"{} nodes, {} edges\".format(len(gsub0), nx.number_of_edges(gsub0)))"
      ],
      "metadata": {
        "colab": {
          "base_uri": "https://localhost:8080/"
        },
        "id": "BZHeUQ8RWKEZ",
        "outputId": "02cf9fbf-df57-466b-c413-ec6a671fcbeb"
      },
      "execution_count": 24,
      "outputs": [
        {
          "output_type": "stream",
          "name": "stdout",
          "text": [
            "8666 nodes, 25336 edges\n"
          ]
        }
      ]
    },
    {
      "cell_type": "code",
      "source": [
        "# filter nodes with degree greater than or equal to 2\n",
        "core1 = [node for node, deg in dict(g1.degree()).items() if deg >= 2]\n",
        "\n",
        "# select a subgraph with 'core' nodes\n",
        "gsub1 = nx.subgraph(g1, core1)\n",
        "\n",
        "print(\"{} nodes, {} edges\".format(len(gsub1), nx.number_of_edges(gsub1)))"
      ],
      "metadata": {
        "colab": {
          "base_uri": "https://localhost:8080/"
        },
        "id": "PSjh424QWdhg",
        "outputId": "bcb7a284-4743-4c1c-b679-2dfe9489c30b"
      },
      "execution_count": 25,
      "outputs": [
        {
          "output_type": "stream",
          "name": "stdout",
          "text": [
            "9630 nodes, 38716 edges\n"
          ]
        }
      ]
    },
    {
      "cell_type": "code",
      "source": [
        "# filter nodes with degree greater than or equal to 2\n",
        "core2 = [node for node, deg in dict(g2.degree()).items() if deg >= 2]\n",
        "\n",
        "# select a subgraph with 'core' nodes\n",
        "gsub2 = nx.subgraph(g2, core)\n",
        "\n",
        "print(\"{} nodes, {} edges\".format(len(gsub2), nx.number_of_edges(gsub2)))"
      ],
      "metadata": {
        "colab": {
          "base_uri": "https://localhost:8080/"
        },
        "id": "eLyWluAWWeHx",
        "outputId": "06fd3499-5349-4ecb-d4cf-397d8236985f"
      },
      "execution_count": 26,
      "outputs": [
        {
          "output_type": "stream",
          "name": "stdout",
          "text": [
            "3333 nodes, 4178 edges\n"
          ]
        }
      ]
    },
    {
      "cell_type": "code",
      "source": [
        "g=nx.compose_all([gsub0, gsub1, gsub2])"
      ],
      "metadata": {
        "id": "3CJDWZHHW3of"
      },
      "execution_count": 27,
      "outputs": []
    },
    {
      "cell_type": "code",
      "source": [
        "print(\"{} nodes, {} edges\".format(len(g), nx.number_of_edges(g)))"
      ],
      "metadata": {
        "colab": {
          "base_uri": "https://localhost:8080/"
        },
        "id": "YH2itRkJXT-o",
        "outputId": "da158135-f01c-45a3-9a7a-ee978cdbc33f"
      },
      "execution_count": 28,
      "outputs": [
        {
          "output_type": "stream",
          "name": "stdout",
          "text": [
            "16171 nodes, 65086 edges\n"
          ]
        }
      ]
    },
    {
      "cell_type": "code",
      "source": [
        "nx.write_graphml(g, \"g.graphml\")"
      ],
      "metadata": {
        "id": "h0q6u4hiXX7Y"
      },
      "execution_count": null,
      "outputs": []
    },
    {
      "cell_type": "code",
      "source": [
        "nx.write_graphml(gsub0,\"gsub0.graphml\")\n",
        "nx.write_graphml(gsub1,\"gsub1.graphml\")"
      ],
      "metadata": {
        "id": "vOKUdGrmXk0A"
      },
      "execution_count": null,
      "outputs": []
    },
    {
      "cell_type": "code",
      "source": [
        "nx.write_graphml(gsub2,\"gsub2.graphml\")"
      ],
      "metadata": {
        "id": "VMGD6nCsYW_4"
      },
      "execution_count": null,
      "outputs": []
    },
    {
      "cell_type": "markdown",
      "source": [
        "## Histogram, PDF and CDF"
      ],
      "metadata": {
        "id": "d5yzyyRni9U7"
      }
    },
    {
      "cell_type": "code",
      "source": [
        "plt.style.use(\"default\")\n",
        "# degree sequence\n",
        "indegree_sequence = sorted([d for n, d in g.in_degree()], reverse=True)\n",
        "\n",
        "fig, ax = plt.subplots(1,2,figsize=(8,6))\n",
        "\n",
        "# all_data has information about degree_sequence and the width of each bin\n",
        "all_data = ax[0].hist(indegree_sequence,bins=7)\n",
        "ax[1].hist(indegree_sequence,bins=7,density=True)\n",
        "\n",
        "ax[0].set_title(\"In-Degree Histogram\")\n",
        "ax[0].set_ylabel(\"Count\")\n",
        "ax[0].set_xlabel(\"In-Degree\")\n",
        "\n",
        "ax[1].set_title(\"Probability Density Function\")\n",
        "ax[1].set_ylabel(\"Probability\")\n",
        "ax[1].set_xlabel(\"In-Degree\")\n",
        "\n",
        "plt.tight_layout()\n",
        "plt.show()"
      ],
      "metadata": {
        "colab": {
          "base_uri": "https://localhost:8080/",
          "height": 607
        },
        "id": "SxvyqnCboDFu",
        "outputId": "4eb8d57a-5bee-4306-dd8b-ca15b8f63707"
      },
      "execution_count": 31,
      "outputs": [
        {
          "output_type": "display_data",
          "data": {
            "text/plain": [
              "<Figure size 800x600 with 2 Axes>"
            ],
            "image/png": "[encoded data removed]"
          },
          "metadata": {}
        }
      ]
    },
    {
      "cell_type": "code",
      "source": [
        "# calc the width of each bin using numpy\n",
        "# diff calc the difference between two positions in the array\n",
        "bin_width = np.diff(all_data[1])\n",
        "bin_width"
      ],
      "metadata": {
        "colab": {
          "base_uri": "https://localhost:8080/"
        },
        "id": "18RV0uHupXMI",
        "outputId": "ecb3b7a0-9136-41a6-9069-216847c44af2"
      },
      "execution_count": 33,
      "outputs": [
        {
          "output_type": "execute_result",
          "data": {
            "text/plain": [
              "array([15.1, 15.1, 15.1, 15.1, 15.1, 15.1, 15.1, 15.1, 15.1, 15.1])"
            ]
          },
          "metadata": {},
          "execution_count": 33
        }
      ]
    },
    {
      "cell_type": "code",
      "source": [
        "# probability density function for each bin\n",
        "# please check the right figure above and compare the results\n",
        "all_data[0]/(all_data[0].sum() * bin_width)"
      ],
      "metadata": {
        "colab": {
          "base_uri": "https://localhost:8080/"
        },
        "id": "mJZi_AeLp3qt",
        "outputId": "73913f0f-f87e-4f0d-f8bb-9933533855fd"
      },
      "execution_count": 34,
      "outputs": [
        {
          "output_type": "execute_result",
          "data": {
            "text/plain": [
              "array([6.49965743e-02, 5.89723817e-04, 2.94861908e-04, 2.29337040e-04,\n",
              "       2.86671300e-05, 6.14295642e-05, 1.63812171e-05, 4.09530428e-06,\n",
              "       0.00000000e+00, 4.09530428e-06])"
            ]
          },
          "metadata": {},
          "execution_count": 34
        }
      ]
    },
    {
      "cell_type": "code",
      "source": [
        "plt.style.use(\"fivethirtyeight\")\n",
        "#plt.style.use(\"default\")\n",
        "\n",
        "fig, ax = plt.subplots(1,1,figsize=(10,8))\n",
        "\n",
        "sns.histplot(indegree_sequence,bins=7,label=\"Count\",ax=ax)\n",
        "ax2 = ax.twinx()\n",
        "sns.kdeplot(indegree_sequence,color='r',label=\"Probability Density Function (PDF)\",ax=ax2)\n",
        "\n",
        "# Definindo os ticks do eixo x para intervalos de 10 em 10\n",
        "ax.set_xticks(range(0, max(indegree_sequence) + 1, 10))\n",
        "\n",
        "# ask matplotlib for the plotted objects and their labels\n",
        "lines, labels = ax.get_legend_handles_labels()\n",
        "lines2, labels2 = ax2.get_legend_handles_labels()\n",
        "ax2.legend(lines + lines2, labels + labels2, loc=0)\n",
        "\n",
        "ax.grid(False)\n",
        "ax2.grid(False)\n",
        "ax.set_xlabel(\"In-Degree\")\n",
        "ax2.set_ylabel(\"Probability\")\n",
        "\n",
        "plt.savefig('probability_density_function.png', transparent=False,dpi=600,bbox_inches=\"tight\")\n",
        "plt.show()"
      ],
      "metadata": {
        "colab": {
          "base_uri": "https://localhost:8080/",
          "height": 737
        },
        "id": "ciRhSCSrp8Wt",
        "outputId": "97c08f8e-85ab-4549-eba1-22eaa25fb9ef"
      },
      "execution_count": 43,
      "outputs": [
        {
          "output_type": "display_data",
          "data": {
            "text/plain": [
              "<Figure size 1000x800 with 2 Axes>"
            ],
            "image/png": "[encoded data removed]"
          },
          "metadata": {}
        }
      ]
    },
    {
      "cell_type": "code",
      "source": [
        "plt.style.use(\"fivethirtyeight\")\n",
        "#plt.style.use(\"default\")\n",
        "\n",
        "fig, ax = plt.subplots(1,1,figsize=(10,8))\n",
        "\n",
        "sns.histplot(indegree_sequence,bins=7,label=\"Count\",ax=ax)\n",
        "ax2 = ax.twinx()\n",
        "sns.kdeplot(indegree_sequence,color='r',label=\"Cumulative Density Function (CDF)\",ax=ax2,cumulative=True)\n",
        "\n",
        "# Definindo os ticks do eixo x para intervalos de 10 em 10\n",
        "ax.set_xticks(range(0, max(indegree_sequence) + 1, 10))\n",
        "\n",
        "# ask matplotlib for the plotted objects and their labels\n",
        "lines, labels = ax.get_legend_handles_labels()\n",
        "lines2, labels2 = ax2.get_legend_handles_labels()\n",
        "ax2.legend(lines + lines2, labels + labels2, loc=0)\n",
        "\n",
        "ax.grid(False)\n",
        "ax2.grid(False)\n",
        "ax.set_xlabel(\"In-Degree\")\n",
        "ax2.set_ylabel(\"Probability\")\n",
        "\n",
        "plt.savefig('cumulative_density_function.png', transparent=False,dpi=600,bbox_inches=\"tight\")\n",
        "plt.show()"
      ],
      "metadata": {
        "colab": {
          "base_uri": "https://localhost:8080/",
          "height": 737
        },
        "id": "56G16GpFquFH",
        "outputId": "7e45a0d9-4c89-4908-df4f-7e57246c6f15"
      },
      "execution_count": 44,
      "outputs": [
        {
          "output_type": "display_data",
          "data": {
            "text/plain": [
              "<Figure size 1000x800 with 2 Axes>"
            ],
            "image/png": "[encoded data removed]"
          },
          "metadata": {}
        }
      ]
    },
    {
      "cell_type": "markdown",
      "source": [
        "## Finding K-core and K-shell"
      ],
      "metadata": {
        "id": "xkydCAKT4Jsr"
      }
    },
    {
      "cell_type": "code",
      "source": [
        "set([v for k,v in nx.core_number(g).items()])"
      ],
      "metadata": {
        "colab": {
          "base_uri": "https://localhost:8080/"
        },
        "id": "gEM7y-2h3BEJ",
        "outputId": "659c954c-2658-4dfa-b338-92e4ad647027"
      },
      "execution_count": 45,
      "outputs": [
        {
          "output_type": "execute_result",
          "data": {
            "text/plain": [
              "{2,\n",
              " 3,\n",
              " 4,\n",
              " 5,\n",
              " 6,\n",
              " 7,\n",
              " 8,\n",
              " 9,\n",
              " 10,\n",
              " 11,\n",
              " 12,\n",
              " 13,\n",
              " 14,\n",
              " 15,\n",
              " 16,\n",
              " 17,\n",
              " 18,\n",
              " 19,\n",
              " 20,\n",
              " 21,\n",
              " 22,\n",
              " 23,\n",
              " 24,\n",
              " 25,\n",
              " 26,\n",
              " 30,\n",
              " 31,\n",
              " 32,\n",
              " 33,\n",
              " 34,\n",
              " 36,\n",
              " 42,\n",
              " 43,\n",
              " 44,\n",
              " 45,\n",
              " 46,\n",
              " 47,\n",
              " 49,\n",
              " 50,\n",
              " 51,\n",
              " 54,\n",
              " 60,\n",
              " 68,\n",
              " 76,\n",
              " 92}"
            ]
          },
          "metadata": {},
          "execution_count": 45
        }
      ]
    },
    {
      "cell_type": "code",
      "source": [
        "core = 92\n",
        "for i in nx.k_core(g,core):\n",
        "  print(i)"
      ],
      "metadata": {
        "colab": {
          "base_uri": "https://localhost:8080/"
        },
        "id": "dtbl9ERi3T2J",
        "outputId": "83b46551-c82e-459f-fa3e-39dfc860262e"
      },
      "execution_count": 46,
      "outputs": [
        {
          "output_type": "stream",
          "name": "stdout",
          "text": [
            "Dragon Age: The Veilguard\n",
            "Dragon Age: The Stolen Throne\n",
            "Hawke (Dragon Age)\n",
            "Dragon Age\n",
            "Cassandra Pentaghast\n",
            "Dragon Age: Inquisition – Jaws Of Hakkon\n",
            "Anders (Dragon Age)\n",
            "Dragon Age: Knight Errant\n",
            "Dragon Age: Absolution\n",
            "Dragon Age: Tevinter Nights\n",
            "Dragon Age: Inquisition – The Descent\n",
            "Characters Of Dragon Age: Inquisition\n",
            "Dragon Age: Magekiller\n",
            "Vivienne (Dragon Age)\n",
            "Characters Of Dragon Age Ii\n",
            "Music Of Dragon Age: Origins\n",
            "Alistair (Dragon Age)\n",
            "James Ohlen\n",
            "Mike Laidlaw\n",
            "Darkspawn\n",
            "Dragon Age: Dawn Of The Seeker\n",
            "Krem (Dragon Age)\n",
            "Dragon Age: Origins – Return To Ostagar\n",
            "Dragon Age: The Silent Grove\n",
            "Morrigan (Dragon Age)\n",
            "Varric Tethras\n",
            "Dragon Age Ii Downloadable Content\n",
            "Sera (Dragon Age)\n",
            "Dragon Age: Deception\n",
            "Dragon Age: Redemption\n",
            "Dragon Age: Origins Downloadable Content\n",
            "Dragon Age: The Masked Empire\n",
            "Iron Bull\n",
            "Dragon Age: Origins – Awakening\n",
            "Dragon Age: Inquisition\n",
            "Dorian Pavus\n",
            "Characters Of Dragon Age: Origins\n",
            "Dragon Age: Blue Wraith\n",
            "Patrick Weekes\n",
            "Dragon Age: Origins\n",
            "Loghain\n",
            "Dragon Age: Last Flight\n",
            "Dragon Age: Inquisition – Trespasser\n",
            "Solas (Dragon Age)\n",
            "Dragon Age Legends\n",
            "Heroes Of Dragon Age\n",
            "Dragon Age (Role-Playing Game)\n",
            "Dragon Age Ii\n"
          ]
        }
      ]
    },
    {
      "cell_type": "code",
      "source": [
        "shell = 76\n",
        "for i in nx.k_shell(g,shell):\n",
        "  print(i)"
      ],
      "metadata": {
        "colab": {
          "base_uri": "https://localhost:8080/"
        },
        "id": "_CtyWLJh3bMy",
        "outputId": "7893e2b7-cf96-488f-a135-fc1e818bbd47"
      },
      "execution_count": 48,
      "outputs": [
        {
          "output_type": "stream",
          "name": "stdout",
          "text": [
            "Mass Effect\n",
            "Manveer Heir\n",
            "Casey Hudson\n",
            "Shadow Realms\n",
            "Archetype Entertainment\n",
            "Ray Muzyka\n",
            "Jennifer Hepler\n",
            "Mac Walters\n",
            "Mass Effect 2\n",
            "Star Wars: The Old Republic\n",
            "Mass Effect Galaxy\n",
            "Mass Effect: Andromeda\n",
            "Neverwinter Nights (2002 Video Game)\n",
            "Jade Empire\n",
            "Mass Effect 3\n",
            "Mass Effect (Video Game)\n",
            "Anthem (Video Game)\n",
            "Neverwinter Nights: Shadows Of Undrentide\n",
            "Baldur'S Gate Ii: Throne Of Bhaal\n",
            "Baldur'S Gate: Tales Of The Sword Coast\n",
            "Bioware\n",
            "David Gaider\n",
            "Shattered Steel\n",
            "Jeff Hickman\n",
            "Star Wars: The Old Republic – Rise Of The Hutt Cartel\n",
            "Electronic Arts\n",
            "Drew Karpyshyn\n",
            "Sonic Chronicles: The Dark Brotherhood\n",
            "Neverwinter Nights: Hordes Of The Underdark\n",
            "Greg Zeschuk\n",
            "Baldur'S Gate Ii: Shadows Of Amn\n",
            "Dragon Age: Dreadwolf\n"
          ]
        }
      ]
    }
  ]
}